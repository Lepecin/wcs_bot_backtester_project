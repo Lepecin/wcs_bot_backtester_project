{
 "cells": [
  {
   "cell_type": "markdown",
   "metadata": {},
   "source": [
    "# WCS Trading Strategy Tester and Bot Trader Creation"
   ]
  },
  {
   "cell_type": "markdown",
   "metadata": {},
   "source": [
    "## Introduction\n",
    "\n",
    "This Warwick Coding Society report outlines the theory and the creation of a trading strategy back testing program and a bot trader using the Python programming language. This document's approach to presenting the theory involves giving a simple explanation of the relevant topics before introducing the mathematics for the topics. The reader can also follow the code shown throughout the report to practice building their own trading toolkit, which is designed to be flexible.\n",
    "\n",
    "The topics covered in this report include:\n",
    "- What is trading and arbitrage?\n",
    "- What is a trading strategy and how use it?\n",
    "- What is porfolio optimisation and how it's done?\n",
    "\n",
    "The report will also cover existing back testing and porfolio optimisation Python packages like Backtrader and PyPortfolioOpt.\n",
    "\n",
    "The motivation for this report is to introduce programmers of any skill level to algorithmic trading and back testing in a clear, concise manner, in line with Warwick Coding Society's goal of making programming accessible. This report is also part of a collaboration project with the WFS Quant Finance Team. This WCS report was made to perfectly complement the WFS report on 'trading strategy comparisons', as one can replicate the results in that report with the tools they learn in this one."
   ]
  },
  {
   "cell_type": "markdown",
   "metadata": {},
   "source": [
    "## Trading Basics\n",
    "\n",
    "### What is Trading?\n",
    "\n",
    "Fundamentally, trading is the exchange of value between two entities, and a market is a field where entities trade. The most active markets in the world today comprise of financial asset markets, including the New York Stock Exchange (NYSE) and NASDAQ. For this reason, this report will be focusing on financial asset markets only, though the methodology presented here is applicable to any market.\n",
    "\n",
    "Financial asset markets are evertrending due to their increasing accessibility to the general public and the ease with which one can trade financial assets. With the progress of computer technology and financal mathematics in the late 20th century, companies, like Renaissance Technologies, investigated the use of algorithmic trading strategies to automate and optimise their trading activity in financial asset markets. Currently, anyone can access financial markets through the many internet brokers that exist, openening the opportunity for anyone to use algorithmic trading methods to automate their trading activity.\n",
    "\n",
    "There are two common ways to earn profit from trading in financial asset markets.\n",
    "- Buying (Long Position): When one buys an asset on the market at an agreed price and time. Then, they sell the asset on the market when the it increases in price, thus profiting from the increase in the price.\n",
    "- Selling (Short Position): When one loans assets from the broker and sells them on the market at an agreed price and time. Then, they buy back the asset when it decreases in price and return it to the broker, thus profiting from the decrease in the price.\n",
    "\n",
    "For more details on how brokers, financial markets and assets work, the reader can resort to the resouces mentioned in this report's bibliography.\n",
    "\n",
    "### What is Arbitrage?\n",
    "\n",
    "Arbitrage involves exploiting inefficiencies across markets to trade more profitably. An arbitrage opportunity is characterised by the potential of investing a net zero worth of capital into assets and profiting from them without risk. Simply put, an arbitrage opportunity can give something from nothing without loss.\n",
    "\n",
    "Arbitrage opprtunities are found using information that efficiently reflect the current demand for different assets, allowing one to essentially predict what asset will be profitable. Again, arbitrage is a general concept that is applicable to any set of markets.\n",
    "\n",
    "The common methods of arbitrage opportunity detection include:\n",
    "- Multivariate trend analysis\n",
    "- Internet social trend analysis\n",
    "\n",
    "This is by no means an exhaustive list of arbitrage opportunity detection methods.\n",
    "\n",
    "The following sections of this report cover the theory of trading strategies, how to test and use them and how to carry out Markowitz Modern Portfolio Optimisation."
   ]
  },
  {
   "cell_type": "markdown",
   "metadata": {},
   "source": [
    "## Trading Strategy Utilisation Theory\n",
    "\n",
    "A trading startegy is a rule on when and how to trade an asset over time given a set of information.\n",
    "\n",
    "We start by outlining what we expect from a trading strategy.\n",
    "\n",
    "### The Characteristics of a Good Trading Strategy\n",
    "\n",
    "The aim of trade is to achieve profit. One can trade in the financial market by either opening long or short positions on financial assets. Long positions are profitable when assets are bought at low prices and sold at higher prices. Short positions are profitable when assets are sold at high prices and bought at lower prices.\n",
    "\n",
    "Therefore, a good trading strategy:\n",
    "- Opens and holds long positions while the asset price increases\n",
    "- Opens and holds short positions while the asset price decreases\n",
    "- Closes long positions when the asset price starts decreasing\n",
    "- Closes short positions when the asset price starts increasing\n",
    "\n",
    "Evidently, a trading strategy involves using information about the asset price trend, a time series showing when the price is increasing or decreasing. This time series is known as an indicator.\n",
    "\n",
    "### Indicator Theory\n",
    "\n"
   ]
  },
  {
   "cell_type": "markdown",
   "metadata": {},
   "source": [
    "## Modern Optimisation Portfolio Theory"
   ]
  }
 ],
 "metadata": {
  "interpreter": {
   "hash": "31f2aee4e71d21fbe5cf8b01ff0e069b9275f58929596ceb00d14d90e3e16cd6"
  },
  "kernelspec": {
   "display_name": "Python 3.8.10 64-bit",
   "language": "python",
   "name": "python3"
  },
  "language_info": {
   "name": "python",
   "version": "3.8.10"
  },
  "orig_nbformat": 4
 },
 "nbformat": 4,
 "nbformat_minor": 2
}
